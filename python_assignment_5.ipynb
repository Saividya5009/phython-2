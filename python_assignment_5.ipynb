{
  "nbformat": 4,
  "nbformat_minor": 0,
  "metadata": {
    "colab": {
      "name": "python assignment 5.ipynb",
      "provenance": [],
      "authorship_tag": "ABX9TyOHRZsbz+ebFsQrp2S9CPmX",
      "include_colab_link": true
    },
    "kernelspec": {
      "name": "python3",
      "display_name": "Python 3"
    }
  },
  "cells": [
    {
      "cell_type": "markdown",
      "metadata": {
        "id": "view-in-github",
        "colab_type": "text"
      },
      "source": [
        "<a href=\"https://colab.research.google.com/github/Saividya5009/phython-2/blob/master/python_assignment_5.ipynb\" target=\"_parent\"><img src=\"https://colab.research.google.com/assets/colab-badge.svg\" alt=\"Open In Colab\"/></a>"
      ]
    },
    {
      "cell_type": "markdown",
      "metadata": {
        "id": "NUsUrdQEhIp7",
        "colab_type": "text"
      },
      "source": [
        "1.write a python program to find area of a circle using math function."
      ]
    },
    {
      "cell_type": "code",
      "metadata": {
        "id": "vTgd4Y79hWdd",
        "colab_type": "code",
        "colab": {
          "base_uri": "https://localhost:8080/",
          "height": 51
        },
        "outputId": "98a6c2de-945d-4950-fd7e-a62b777f7663"
      },
      "source": [
        "import math\n",
        "r=int(input(\"enter the radius\"))\n",
        "area=math.pi*r*r\n",
        "print(area)"
      ],
      "execution_count": null,
      "outputs": [
        {
          "output_type": "stream",
          "text": [
            "enter the radius4\n",
            "50.26548245743669\n"
          ],
          "name": "stdout"
        }
      ]
    },
    {
      "cell_type": "markdown",
      "metadata": {
        "id": "NYPjKdBQit51",
        "colab_type": "text"
      },
      "source": [
        "2.write a python program to find area of regular polygon using math function."
      ]
    },
    {
      "cell_type": "code",
      "metadata": {
        "id": "FyMyWTHKi5xc",
        "colab_type": "code",
        "colab": {
          "base_uri": "https://localhost:8080/",
          "height": 68
        },
        "outputId": "84083cdb-3771-4f8d-b982-edafe03d62e5"
      },
      "source": [
        "import math\n",
        "pi=3.14\n",
        "n=int(input(\"enter the number of side\"))\n",
        "s=int(input(\"enter the lengthe of side\"))\n",
        "area=(n*s)/4*math.tan(pi/n)\n",
        "print(area)"
      ],
      "execution_count": null,
      "outputs": [
        {
          "output_type": "stream",
          "text": [
            "enter the number of side4\n",
            "enter the lengthe of side3\n",
            "2.997611970315128\n"
          ],
          "name": "stdout"
        }
      ]
    },
    {
      "cell_type": "markdown",
      "metadata": {
        "id": "0wYQnGLKoMBl",
        "colab_type": "text"
      },
      "source": [
        "3.write a python program to find area of segment of a circle using math function"
      ]
    },
    {
      "cell_type": "code",
      "metadata": {
        "id": "L9ebik00ohLA",
        "colab_type": "code",
        "colab": {
          "base_uri": "https://localhost:8080/",
          "height": 68
        },
        "outputId": "8f3d5229-bb87-4453-9a65-6bfdbfd97aed"
      },
      "source": [
        "import math\n",
        "pi=3.14\n",
        "radius=int(input(\"enter the radius\"))\n",
        "angle=int(input(\"enter the angle\"))\n",
        "areaofsector = pi*(radius* radius)*(angle/360)\n",
        "areaoftriangle = 1 / 2 * (radius * radius) *math.sin((angle * pi) / 180)\n",
        "area=areaofsector-areaoftriangle                    \n",
        "print(\"Area of minor segment =\",area) "
      ],
      "execution_count": null,
      "outputs": [
        {
          "output_type": "stream",
          "text": [
            "enter the radius3\n",
            "enter the angle100\n",
            "Area of minor segment = 3.417675442780271\n"
          ],
          "name": "stdout"
        }
      ]
    },
    {
      "cell_type": "markdown",
      "metadata": {
        "id": "8Q7LaMmytBvH",
        "colab_type": "text"
      },
      "source": [
        "4.write a python program by using math module to find\n",
        "\n",
        "1.   sin 60\n",
        "\n",
        "\n",
        "\n",
        "\n"
      ]
    },
    {
      "cell_type": "code",
      "metadata": {
        "id": "_uwUGkYPtzWe",
        "colab_type": "code",
        "colab": {
          "base_uri": "https://localhost:8080/",
          "height": 34
        },
        "outputId": "046f2c5f-9e44-4619-e5a9-c8e249ce86f8"
      },
      "source": [
        "import math\n",
        "angle=math.sin(60)\n",
        "print(angle)"
      ],
      "execution_count": null,
      "outputs": [
        {
          "output_type": "stream",
          "text": [
            "-0.3048106211022167\n"
          ],
          "name": "stdout"
        }
      ]
    },
    {
      "cell_type": "markdown",
      "metadata": {
        "id": "NflLJMtwuVUk",
        "colab_type": "text"
      },
      "source": [
        "2.cos(pi)"
      ]
    },
    {
      "cell_type": "code",
      "metadata": {
        "id": "We-TtqNzuZs9",
        "colab_type": "code",
        "colab": {
          "base_uri": "https://localhost:8080/",
          "height": 34
        },
        "outputId": "ff5f5dee-3e2e-4d36-f102-485653e725f7"
      },
      "source": [
        "import math\n",
        "math.cos(pi)"
      ],
      "execution_count": null,
      "outputs": [
        {
          "output_type": "execute_result",
          "data": {
            "text/plain": [
              "-0.9999987317275395"
            ]
          },
          "metadata": {
            "tags": []
          },
          "execution_count": 25
        }
      ]
    },
    {
      "cell_type": "markdown",
      "metadata": {
        "id": "9MBuApxGutpb",
        "colab_type": "text"
      },
      "source": [
        "3.tan(90)"
      ]
    },
    {
      "cell_type": "code",
      "metadata": {
        "id": "Bzl-m8XDuzN-",
        "colab_type": "code",
        "colab": {
          "base_uri": "https://localhost:8080/",
          "height": 34
        },
        "outputId": "107fea8a-5620-4b6f-f2eb-70b7b656c5d5"
      },
      "source": [
        "import math\n",
        "math.tan(90)"
      ],
      "execution_count": null,
      "outputs": [
        {
          "output_type": "execute_result",
          "data": {
            "text/plain": [
              "-1.995200412208242"
            ]
          },
          "metadata": {
            "tags": []
          },
          "execution_count": 26
        }
      ]
    },
    {
      "cell_type": "markdown",
      "metadata": {
        "id": "bAPUNszmvILZ",
        "colab_type": "text"
      },
      "source": [
        "4.angle of sin(0.8660254037844386)"
      ]
    },
    {
      "cell_type": "code",
      "metadata": {
        "id": "WWe0y6fpvAl6",
        "colab_type": "code",
        "colab": {
          "base_uri": "https://localhost:8080/",
          "height": 34
        },
        "outputId": "c50c958a-6b64-4e6c-8039-85b9ef31a83c"
      },
      "source": [
        "import math\n",
        "math.sin(0.8660254037844386)"
      ],
      "execution_count": null,
      "outputs": [
        {
          "output_type": "execute_result",
          "data": {
            "text/plain": [
              "0.7617599814162892"
            ]
          },
          "metadata": {
            "tags": []
          },
          "execution_count": 27
        }
      ]
    },
    {
      "cell_type": "markdown",
      "metadata": {
        "id": "1iYpeDsdvoG5",
        "colab_type": "text"
      },
      "source": [
        "5.5^8"
      ]
    },
    {
      "cell_type": "code",
      "metadata": {
        "id": "q65VuoiyvwOB",
        "colab_type": "code",
        "colab": {
          "base_uri": "https://localhost:8080/",
          "height": 34
        },
        "outputId": "f59b4bc7-38ff-41da-9d1c-a374a64e97ec"
      },
      "source": [
        "import math\n",
        "pow(5,8)"
      ],
      "execution_count": null,
      "outputs": [
        {
          "output_type": "execute_result",
          "data": {
            "text/plain": [
              "390625"
            ]
          },
          "metadata": {
            "tags": []
          },
          "execution_count": 29
        }
      ]
    },
    {
      "cell_type": "markdown",
      "metadata": {
        "id": "VUQl-ZkLvnnK",
        "colab_type": "text"
      },
      "source": [
        "6.square root of 400\n",
        "\n"
      ]
    },
    {
      "cell_type": "code",
      "metadata": {
        "id": "62NCqSNPwQgR",
        "colab_type": "code",
        "colab": {
          "base_uri": "https://localhost:8080/",
          "height": 34
        },
        "outputId": "f20a7f75-5c06-4839-d420-43a2ead41c45"
      },
      "source": [
        "import math\n",
        "math.sqrt(400)"
      ],
      "execution_count": null,
      "outputs": [
        {
          "output_type": "execute_result",
          "data": {
            "text/plain": [
              "20.0"
            ]
          },
          "metadata": {
            "tags": []
          },
          "execution_count": 31
        }
      ]
    },
    {
      "cell_type": "markdown",
      "metadata": {
        "id": "aBTUZp_uwdyZ",
        "colab_type": "text"
      },
      "source": [
        "7.\tThe value of 5^e\n",
        "8.\tThe value of Log(1024), base 2\n",
        "9.\tThe value of Log(1024), base 10\n",
        "10.\tThe Floor and Ceiling value of 23.56 \n",
        "\n",
        "\n",
        "\n",
        "\n"
      ]
    },
    {
      "cell_type": "code",
      "metadata": {
        "id": "nEFVdvkrwa7e",
        "colab_type": "code",
        "colab": {
          "base_uri": "https://localhost:8080/",
          "height": 34
        },
        "outputId": "c6ff24bb-9794-4e48-cac6-3355c01078e4"
      },
      "source": [
        "import math\n",
        "math.exp(5)"
      ],
      "execution_count": null,
      "outputs": [
        {
          "output_type": "execute_result",
          "data": {
            "text/plain": [
              "148.4131591025766"
            ]
          },
          "metadata": {
            "tags": []
          },
          "execution_count": 45
        }
      ]
    },
    {
      "cell_type": "code",
      "metadata": {
        "id": "J8Bne6n95CKb",
        "colab_type": "code",
        "colab": {
          "base_uri": "https://localhost:8080/",
          "height": 34
        },
        "outputId": "265c0d94-f2ad-44ab-ade4-e92a5981f1d6"
      },
      "source": [
        "import math\n",
        "math.log2(1024)"
      ],
      "execution_count": null,
      "outputs": [
        {
          "output_type": "execute_result",
          "data": {
            "text/plain": [
              "10.0"
            ]
          },
          "metadata": {
            "tags": []
          },
          "execution_count": 38
        }
      ]
    },
    {
      "cell_type": "code",
      "metadata": {
        "id": "0C2rcgfy5J7M",
        "colab_type": "code",
        "colab": {
          "base_uri": "https://localhost:8080/",
          "height": 34
        },
        "outputId": "bcecfe4a-05a8-4776-d265-cf54f1c553ba"
      },
      "source": [
        "import math\n",
        "math.log10(1024)"
      ],
      "execution_count": null,
      "outputs": [
        {
          "output_type": "execute_result",
          "data": {
            "text/plain": [
              "3.010299956639812"
            ]
          },
          "metadata": {
            "tags": []
          },
          "execution_count": 39
        }
      ]
    },
    {
      "cell_type": "code",
      "metadata": {
        "id": "lbbkNXyg5g_c",
        "colab_type": "code",
        "colab": {
          "base_uri": "https://localhost:8080/",
          "height": 34
        },
        "outputId": "c01369cf-4ebe-41db-8b75-a1b108413001"
      },
      "source": [
        "import math\n",
        "math.floor(23.56)"
      ],
      "execution_count": null,
      "outputs": [
        {
          "output_type": "execute_result",
          "data": {
            "text/plain": [
              "23"
            ]
          },
          "metadata": {
            "tags": []
          },
          "execution_count": 44
        }
      ]
    },
    {
      "cell_type": "code",
      "metadata": {
        "id": "m52Hw38I5g6Z",
        "colab_type": "code",
        "colab": {
          "base_uri": "https://localhost:8080/",
          "height": 34
        },
        "outputId": "d3c6794a-0549-48b6-91e8-0086b8aa8b61"
      },
      "source": [
        "import math\n",
        "math.ceil(23.56)"
      ],
      "execution_count": null,
      "outputs": [
        {
          "output_type": "execute_result",
          "data": {
            "text/plain": [
              "24"
            ]
          },
          "metadata": {
            "tags": []
          },
          "execution_count": 43
        }
      ]
    },
    {
      "cell_type": "markdown",
      "metadata": {
        "id": "nQwuyMcs6P2O",
        "colab_type": "text"
      },
      "source": [
        "5.write a python program to generate random numbers 110000 and difference between each random number is 50."
      ]
    },
    {
      "cell_type": "code",
      "metadata": {
        "id": "KH3daTRV65ru",
        "colab_type": "code",
        "colab": {
          "base_uri": "https://localhost:8080/",
          "height": 34
        },
        "outputId": "7f5ace72-0fdb-46ed-e95e-f209aee2e77c"
      },
      "source": [
        "import random\n",
        "random.randrange(0,110000,50)"
      ],
      "execution_count": null,
      "outputs": [
        {
          "output_type": "execute_result",
          "data": {
            "text/plain": [
              "40350"
            ]
          },
          "metadata": {
            "tags": []
          },
          "execution_count": 48
        }
      ]
    },
    {
      "cell_type": "markdown",
      "metadata": {
        "id": "HorS4meVvMg3",
        "colab_type": "text"
      },
      "source": [
        "6write a python program to shuffle list"
      ]
    },
    {
      "cell_type": "code",
      "metadata": {
        "id": "74KIRYfp1Oup",
        "colab_type": "code",
        "colab": {
          "base_uri": "https://localhost:8080/",
          "height": 34
        },
        "outputId": "8de1e39e-d2a7-4f10-9988-023f61f4de27"
      },
      "source": [
        "from random import shuffle\n",
        "color=['100','1','2','3','30','40',\"hai\",\"hello\"]\n",
        "shuffle(color)\n",
        "print(color)"
      ],
      "execution_count": 1,
      "outputs": [
        {
          "output_type": "stream",
          "text": [
            "['1', 'hello', '40', 'hai', '30', '3', '2', '100']\n"
          ],
          "name": "stdout"
        }
      ]
    }
  ]
}